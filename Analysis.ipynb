{
 "cells": [
  {
   "cell_type": "code",
   "execution_count": null,
   "id": "3c6fe4d1-0566-4a96-8136-1196647af5e3",
   "metadata": {},
   "outputs": [],
   "source": []
  }
 ],
 "metadata": {
  "kernelspec": {
   "display_name": "",
   "name": ""
  },
  "language_info": {
   "name": ""
  }
 },
 "nbformat": 4,
 "nbformat_minor": 5
}
