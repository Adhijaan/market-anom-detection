{
 "cells": [
  {
   "cell_type": "code",
   "execution_count": null,
   "metadata": {},
   "outputs": [],
   "source": [
    "import pandas as pd\n",
    "from sklearn.ensemble import IsolationForest\n",
    "from sklearn.metrics import classification_report"
   ]
  },
  {
   "cell_type": "code",
   "execution_count": null,
   "metadata": {},
   "outputs": [],
   "source": [
    "\n",
    "# Step 1: Load the preprocessed data\n",
    "df_pca = pd.read_csv('preprocessed_data.csv')\n",
    "\n",
    "# Step 2: Separate features and target\n",
    "X = df_pca.drop('Crash', axis=1)\n",
    "y = df_pca['Crash']\n",
    "\n",
    "# Step 3: Train the Isolation Forest model\n",
    "iso_forest = IsolationForest(n_estimators=100, contamination=0.05, random_state=42)\n",
    "iso_forest.fit(X)\n",
    "\n",
    "# Step 4: Predict anomalies\n",
    "df_pca['Anomaly'] = iso_forest.predict(X)\n",
    "df_pca['Anomaly'] = df_pca['Anomaly'].map({1: 0, -1: 1})  # 1 for anomalies\n",
    "\n",
    "# Step 5: Evaluate model performance\n",
    "print(classification_report(y, df_pca['Anomaly']))\n",
    "\n",
    "# Step 6: Visualize anomalies\n",
    "import matplotlib.pyplot as plt\n",
    "\n",
    "plt.figure(figsize=(12, 6))\n",
    "plt.plot(df_pca.index, df_pca['PC1'], label='Principal Component 1')\n",
    "plt.scatter(df_pca[df_pca['Anomaly'] == 1].index, df_pca[df_pca['Anomaly'] == 1]['PC1'], color='r', label='Anomalies')\n",
    "plt.title('Anomalies Detected by Isolation Forest')\n",
    "plt.xlabel('Time')\n",
    "plt.ylabel('Principal Component 1')\n",
    "plt.legend()\n",
    "plt.show()"
   ]
  }
 ],
 "metadata": {
  "kernelspec": {
   "display_name": "venv",
   "language": "python",
   "name": "python3"
  },
  "language_info": {
   "name": "python",
   "version": "3.11.5"
  }
 },
 "nbformat": 4,
 "nbformat_minor": 2
}
